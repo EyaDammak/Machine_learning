{
 "cells": [
  {
   "cell_type": "code",
   "execution_count": 1,
   "id": "a83fa032-5c94-42e9-b316-b2543f539806",
   "metadata": {},
   "outputs": [],
   "source": [
    "import numpy as np\n",
    "import random as random"
   ]
  },
  {
   "cell_type": "code",
   "execution_count": null,
   "id": "61d88046-561a-41af-b69d-208e60cfcb87",
   "metadata": {},
   "outputs": [],
   "source": []
  },
  {
   "cell_type": "markdown",
   "id": "c152a78e-4885-412e-aada-a5fc745b7505",
   "metadata": {},
   "source": [
    "Case 1: One layer + one sample\n",
    "Input layer size: N0=3\n",
    "Output layer size: N1=2"
   ]
  },
  {
   "cell_type": "code",
   "execution_count": 2,
   "id": "894bf039-0f26-4d80-a71e-a272d2f1b099",
   "metadata": {},
   "outputs": [],
   "source": [
    "N0=3 #input layer size\n",
    "N1=2 # output layer size"
   ]
  },
  {
   "cell_type": "code",
   "execution_count": 4,
   "id": "3ae460e7-8ad7-4653-88b9-0e920fdf4c49",
   "metadata": {},
   "outputs": [],
   "source": [
    "w=np.random.uniform(low=-1,high=+1,size=(N1,N0)) #random weight: N1xN0\n",
    "b=np.random.uniform(low=-1,high=+1,size=N1) #biases: N1 vector"
   ]
  },
  {
   "cell_type": "code",
   "execution_count": 6,
   "id": "fd649c50-275f-47e7-a21d-e851126ecd7f",
   "metadata": {},
   "outputs": [],
   "source": [
    "y_in=np.array([0.2,0.4,-0.1]) #input values"
   ]
  },
  {
   "cell_type": "code",
   "execution_count": 9,
   "id": "df8756ec-eab6-46ee-9177-7b7c65f87894",
   "metadata": {},
   "outputs": [],
   "source": [
    "z=np.dot(w,y_in)+b #result: the vector of 'z' values, length N1\n",
    "y_out=1/(1+np.exp(-z)) #the sigmoid function (applied elementwise)"
   ]
  },
  {
   "cell_type": "code",
   "execution_count": 10,
   "id": "38001e29-a02d-4cbc-893a-d5fa85d46d09",
   "metadata": {},
   "outputs": [
    {
     "name": "stdout",
     "output_type": "stream",
     "text": [
      "[0.46082744 0.74652302]\n"
     ]
    }
   ],
   "source": [
    "print(y_out)"
   ]
  },
  {
   "cell_type": "markdown",
   "id": "7e2669eb-4f39-4f14-a93e-9627118c1bee",
   "metadata": {},
   "source": [
    "Case 2: Backpropagation"
   ]
  },
  {
   "cell_type": "code",
   "execution_count": 3,
   "id": "a666310c-d192-4591-b645-75d2485594d0",
   "metadata": {},
   "outputs": [],
   "source": [
    "def net_f_df(z):#calculate f(z) and f'(z)\n",
    "    val=1/(1+np.exp(-z))\n",
    "    return(val,np.exp(-z)*val**2) #return both f and f'"
   ]
  },
  {
   "cell_type": "code",
   "execution_count": 4,
   "id": "ab474e83-592a-4f37-b2be-5bb734120f12",
   "metadata": {},
   "outputs": [],
   "source": [
    "def forward_step(y,w,b):#calculate values in next layer\n",
    "    z=np.dot(y,w)+b #w=weights, b=bias vector for next layer\n",
    "    return(net_f_def(z)) #apply non linearity"
   ]
  },
  {
   "cell_type": "code",
   "execution_count": 5,
   "id": "71f7753c-7b66-4467-9eb6-6a9a353da24e",
   "metadata": {},
   "outputs": [],
   "source": [
    "def apply_net(y_in):#one forward pass through the network\n",
    "    global Weights,Biases,NumLayers\n",
    "    global y_layer, df_layer #store y-values and df/dz\n",
    "    y=y_in #start with input values\n",
    "    y_layer[0]=y\n",
    "    for j in range(NumLayers): #loop through all layers\n",
    "    #j=0 corresponds to the first layer above input\n",
    "        y,df=forward_step(y,Weights(j),Biases[j])\n",
    "        df_layer[j]=df #store f'(z)\n",
    "        y_layer[j+1]=y #store f(z)\n",
    "    return(y)\n"
   ]
  },
  {
   "cell_type": "code",
   "execution_count": null,
   "id": "a5e88b30-d8da-4ae1-b968-eeed3a93e5c7",
   "metadata": {},
   "outputs": [],
   "source": [
    "def backward_step(delta,w,df):\n",
    "    #delta at layer N, of batchsize x layersize (N))\n",
    "    #w[layersize(N-1)xlayersize(N) matrix]\n",
    "    #df = df/dz at layer N-1, of batchsize x layersize(N-1)\n",
    "    return(np.dot(delta,transpose(w))*df)"
   ]
  },
  {
   "cell_type": "code",
   "execution_count": null,
   "id": "94c78ce0-7c37-44d7-a9c0-a5d809ea7391",
   "metadata": {},
   "outputs": [],
   "source": [
    "def backprop(y_target):\n",
    "    #the result will be the 'dw_layer' matrices with the derivatives of the cost function with respect to the corresponding weight (similar biases)\n",
    "    global y_layer, df_layer, Weights, Biases, NumLayers\n",
    "    global dw_layer, db_layer # dCost/dw and dCost/db\n",
    "#(w,b=weights,biases)\n",
    "    global batchsize\n",
    "\n",
    "    delta=(y_layer[-1]-y_target)*df_layer[-1]\n",
    "    dw_layer[-1]=delta.sum(0)/batchsize\n",
    "    for j in range(NumLayers-1):\n",
    "        delta=backward_step(delta,Weights[-1-j],df_layer[-2-j])\n",
    "        dw_layer[-2-j]=np.dot(transpose(y_layer[-3-j]),delta)/batchsize\n",
    "        db_layer[-2-j]=delta.sum(0)/batchsize"
   ]
  }
 ],
 "metadata": {
  "kernelspec": {
   "display_name": "Python 3 (ipykernel)",
   "language": "python",
   "name": "python3"
  },
  "language_info": {
   "codemirror_mode": {
    "name": "ipython",
    "version": 3
   },
   "file_extension": ".py",
   "mimetype": "text/x-python",
   "name": "python",
   "nbconvert_exporter": "python",
   "pygments_lexer": "ipython3",
   "version": "3.12.2"
  }
 },
 "nbformat": 4,
 "nbformat_minor": 5
}
